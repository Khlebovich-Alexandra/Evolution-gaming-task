{
 "cells": [
  {
   "cell_type": "code",
   "execution_count": 53,
   "metadata": {},
   "outputs": [],
   "source": [
    "import pandas as pd\n",
    "import numpy as np\n",
    "from tabulate import tabulate\n",
    "from time import time\n",
    "\n",
    "# For Preprocessing\n",
    "from prog import LabelEncoding, Scaler, OneHotEncoding\n",
    "from sklearn.pipeline import Pipeline\n",
    "\n",
    "# For Learning\n",
    "from sklearn.model_selection import train_test_split, GridSearchCV, KFold, cross_val_score\n",
    "from sklearn.metrics import r2_score, explained_variance_score, max_error\n",
    "from sklearn.ensemble import RandomForestRegressor, ExtraTreesRegressor\n",
    "import catboost\n",
    "import lightgbm\n",
    "import xgboost\n",
    "\n",
    "import warnings\n",
    "warnings.filterwarnings('ignore')"
   ]
  },
  {
   "cell_type": "markdown",
   "metadata": {},
   "source": [
    "# Data Pre-Processing"
   ]
  },
  {
   "cell_type": "code",
   "execution_count": 209,
   "metadata": {},
   "outputs": [],
   "source": [
    "data = pd.read_csv('data/insurance.csv')\n",
    "\n",
    "(X_train, X_valid,\n",
    " y_train, y_valid) = train_test_split(data.drop('charges', axis=1),\n",
    "                                     data.charges, shuffle=True,\n",
    "                                     test_size=0.2, random_state=42)"
   ]
  },
  {
   "cell_type": "markdown",
   "metadata": {},
   "source": [
    "### Use classes from prog.py"
   ]
  },
  {
   "cell_type": "markdown",
   "metadata": {},
   "source": [
    "# Model testing"
   ]
  },
  {
   "cell_type": "code",
   "execution_count": 262,
   "metadata": {},
   "outputs": [],
   "source": [
    "def get_gs(regr, parameters, le=True, ohe=True, scaler=False, need_print=False, cv=None):\n",
    "    steps = []\n",
    "    if le:\n",
    "        steps += [('le', LabelEncoding())]\n",
    "    if ohe:\n",
    "        steps += [('ohe', OneHotEncoding())]\n",
    "    if scaler:\n",
    "        steps += [('scaler', Scaler())]\n",
    "    preprocessing = Pipeline(steps=steps)\n",
    "    pipe = Pipeline(steps=[('preproc', preprocessing),\n",
    "                            ('model', regr)])\n",
    "\n",
    "    if need_print:\n",
    "        print(\"Performing grid search...\")\n",
    "        t0 = time()\n",
    "    \n",
    "    gs = GridSearchCV(pipe, parameters, scoring='r2', cv=cv)\n",
    "    gs.fit(X_train, y_train)\n",
    "    if need_print:\n",
    "        print(\"done in %0.3fs\" % (time() - t0))\n",
    "        print()\n",
    "\n",
    "        print(\"Best score: %0.3f\" % gs.best_score_)\n",
    "        print(\"Best parameters set:\")\n",
    "        best_parameters = gs.best_estimator_.get_params()\n",
    "        for param_name in sorted(parameters.keys()):\n",
    "            print(\"\\t%s: %r\" % (param_name, best_parameters[param_name]))\n",
    "    return gs, gs.best_estimator_.steps[0][1]"
   ]
  },
  {
   "cell_type": "code",
   "execution_count": 294,
   "metadata": {},
   "outputs": [],
   "source": [
    "def get_estimation(regr, le=True, ohe=True, scaler=False):\n",
    "    t0 = time()\n",
    "    steps = []\n",
    "    if le:\n",
    "        steps += [('le', LabelEncoding())]\n",
    "    if ohe:\n",
    "        steps += [('ohe', OneHotEncoding())]\n",
    "    if scaler:\n",
    "        steps += [('scaler', Scaler())]\n",
    "    pipe = Pipeline(steps=steps)\n",
    "    \n",
    "    cv = KFold(n_splits=4, shuffle=True, random_state=42)\n",
    "    res = cross_val_score(regr, pipe.fit_transform(data.drop('charges', axis=1)),\n",
    "                          data.charges, cv=cv, scoring='r2')\n",
    "    print(\"Mean r2-score: %.2f%% (%.2f%%)\" % (res.mean()*100, res.std()*100))\n",
    "    print(f\"All r2-scores: {res}\")\n",
    "    model_pipe = Pipeline(steps=[('prepr', pipe),\n",
    "                                 ('model', regr)\n",
    "    ])\n",
    "    model_pipe.fit(X_train, y_train)\n",
    "    print(f'R2 - {r2_score(y_valid, model_pipe.predict(X_valid)):.4}')\n",
    "    print(\"done in %0.3fs\" % (time() - t0))\n",
    "    return regr, pipe, res"
   ]
  },
  {
   "cell_type": "code",
   "execution_count": 111,
   "metadata": {},
   "outputs": [],
   "source": [
    "def get_res_grid_search(regr, gs_res, preprocessing):\n",
    "    X_valid_pipe = preprocessing.transform(X_valid)\n",
    "    print('Before Grid Search:')\n",
    "    print(f'R2 - {r2_score(y_valid, regr.predict(X_valid_pipe)):.4}')\n",
    "    print(f'Expl variance - {explained_variance_score(y_valid, regr.predict(X_valid_pipe)):.4}')\n",
    "    print()\n",
    "    print('After Grid Serch:')\n",
    "    print(f'R2 - {r2_score(y_valid, gs_res.best_estimator_.predict(X_valid)):.4}')\n",
    "    print(f'Expl variance - {explained_variance_score(y_valid, gs_res.best_estimator_.predict(X_valid)):.4}')"
   ]
  },
  {
   "cell_type": "markdown",
   "metadata": {},
   "source": [
    "## Catboost using categorical feature"
   ]
  },
  {
   "cell_type": "code",
   "execution_count": 295,
   "metadata": {},
   "outputs": [
    {
     "name": "stdout",
     "output_type": "stream",
     "text": [
      "Mean r2-score: 84.92% (3.00%)\n",
      "All r2-scores: [0.86246463 0.89216229 0.8200967  0.82211456]\n",
      "R2 - 0.8732\n",
      "done in 37.014s\n"
     ]
    }
   ],
   "source": [
    "ctbst_cat = catboost.CatBoostRegressor(cat_features=['region'], verbose=False)\n",
    "ctbst_cat = get_estimation(ctbst_cat, ohe=False)[0]"
   ]
  },
  {
   "cell_type": "code",
   "execution_count": 157,
   "metadata": {},
   "outputs": [
    {
     "name": "stdout",
     "output_type": "stream",
     "text": [
      "Performing grid search...\n",
      "done in 1117.383s\n",
      "\n",
      "Best score: 0.851\n",
      "Best parameters set:\n",
      "\tmodel__depth: 4\n",
      "\tmodel__l2_leaf_reg: 5\n",
      "\tmodel__learning_rate: 0.009\n",
      "Before Grid Search:\n",
      "R2 - 0.8732\n",
      "Expl variance - 0.8732\n",
      "\n",
      "After Grid Serch:\n",
      "R2 - 0.8817\n",
      "Expl variance - 0.8818\n"
     ]
    }
   ],
   "source": [
    "grid_ctbst_cat = {'model__learning_rate': [0.02, 0.009, 0.01, 0.03],\n",
    "                  'model__depth': [4, 5, 3],\n",
    "                  'model__l2_leaf_reg': [5, 6, 7, 9, 8]\n",
    "}\n",
    "gs_ctbst_cat, preproc_ctbst_cat = get_gs(ctbst_cat, grid_ctbst_cat, ohe=False, need_print=True)\n",
    "\n",
    "get_res_grid_search(ctbst_cat, gs_ctbst_cat, preproc_ctbst_cat)"
   ]
  },
  {
   "cell_type": "markdown",
   "metadata": {},
   "source": [
    "#### Use catboost model best estimator"
   ]
  },
  {
   "cell_type": "code",
   "execution_count": 305,
   "metadata": {},
   "outputs": [
    {
     "name": "stdout",
     "output_type": "stream",
     "text": [
      "Mean r2-score: 85.98% (2.70%)\n",
      "All r2-scores: [0.86983217 0.89892027 0.82890297 0.84137472]\n",
      "R2 - 0.8817\n",
      "done in 21.438s\n"
     ]
    }
   ],
   "source": [
    "ctbst_cat = catboost.CatBoostRegressor(cat_features=['region'], verbose=False, \n",
    "                                       learning_rate=0.009, depth=4, l2_leaf_reg=5,\n",
    "                                       loss_function='RMSE')\n",
    "ctbst_cat, preproc_ctbst_cat, res_ctbst_cat = get_estimation(ctbst_cat, ohe=False)"
   ]
  },
  {
   "cell_type": "markdown",
   "metadata": {},
   "source": [
    "## Catboost"
   ]
  },
  {
   "cell_type": "code",
   "execution_count": 297,
   "metadata": {},
   "outputs": [
    {
     "name": "stdout",
     "output_type": "stream",
     "text": [
      "Mean r2-score: 83.82% (2.65%)\n",
      "All r2-scores: [0.85864864 0.86992707 0.8147745  0.80947824]\n",
      "R2 - 0.8637\n",
      "done in 6.898s\n"
     ]
    }
   ],
   "source": [
    "ctbst = catboost.CatBoostRegressor(task_type=None, verbose=False)\n",
    "ctbst= get_estimation(ctbst)[0]"
   ]
  },
  {
   "cell_type": "code",
   "execution_count": 118,
   "metadata": {},
   "outputs": [
    {
     "name": "stdout",
     "output_type": "stream",
     "text": [
      "Performing grid search...\n",
      "done in 210.244s\n",
      "\n",
      "Best score: 0.852\n",
      "Best parameters set:\n",
      "\tmodel__depth: 3\n",
      "\tmodel__l2_leaf_reg: 5\n",
      "\tmodel__learning_rate: 0.01\n",
      "Before Grid Search:\n",
      "R2 - 0.8637\n",
      "Expl variance - 0.8638\n",
      "\n",
      "After Grid Serch:\n",
      "R2 - 0.8822\n",
      "Expl variance - 0.8824\n"
     ]
    }
   ],
   "source": [
    "grid_ctbst = {'model__learning_rate': [0.01, 0.03, 0.1, 0.25],\n",
    "              'model__depth': [4, 5, 3, 2],\n",
    "              'model__l2_leaf_reg': [5, 7, 9, 11]\n",
    "}\n",
    "gs_ctbst, preproc_ctbst = get_gs(ctbst, grid_ctbst, need_print=True)\n",
    "\n",
    "get_res_grid_search(ctbst, gs_ctbst, preproc_ctbst)"
   ]
  },
  {
   "cell_type": "markdown",
   "metadata": {},
   "source": [
    "#### Use catboost model best estimator"
   ]
  },
  {
   "cell_type": "code",
   "execution_count": 306,
   "metadata": {},
   "outputs": [
    {
     "name": "stdout",
     "output_type": "stream",
     "text": [
      "Mean r2-score: 85.99% (2.72%)\n",
      "All r2-scores: [0.86980985 0.89943728 0.82872846 0.84155767]\n",
      "R2 - 0.8822\n",
      "done in 3.625s\n"
     ]
    }
   ],
   "source": [
    "ctbst = catboost.CatBoostRegressor(task_type=None, verbose=False, \n",
    "                                   learning_rate=0.01, depth=3, \n",
    "                                   l2_leaf_reg=5, loss_function='RMSE')\n",
    "ctbst, preproc_ctbst, res_ctbst = get_estimation(ctbst)"
   ]
  },
  {
   "cell_type": "markdown",
   "metadata": {},
   "source": [
    "## Random Forest"
   ]
  },
  {
   "cell_type": "code",
   "execution_count": 299,
   "metadata": {},
   "outputs": [
    {
     "name": "stdout",
     "output_type": "stream",
     "text": [
      "Mean r2-score: 83.29% (2.19%)\n",
      "All r2-scores: [0.84758743 0.85804471 0.80136046 0.82460418]\n",
      "R2 - 0.8606\n",
      "done in 1.596s\n"
     ]
    }
   ],
   "source": [
    "rf = RandomForestRegressor()\n",
    "rf = get_estimation(rf)[0]"
   ]
  },
  {
   "cell_type": "code",
   "execution_count": 125,
   "metadata": {},
   "outputs": [
    {
     "name": "stdout",
     "output_type": "stream",
     "text": [
      "Performing grid search...\n",
      "done in 214.633s\n",
      "\n",
      "Best score: 0.847\n",
      "Best parameters set:\n",
      "\tmodel__max_depth: 4\n",
      "\tmodel__min_samples_split: 3\n",
      "\tmodel__n_estimators: 500\n",
      "Before Grid Search:\n",
      "R2 - 0.8622\n",
      "Expl variance - 0.8635\n",
      "\n",
      "After Grid Serch:\n",
      "R2 - 0.8716\n",
      "Expl variance - 0.8721\n"
     ]
    }
   ],
   "source": [
    "grid_rf = {'model__n_estimators': [200, 300, 400, 500],\n",
    "           'model__max_depth': [4, 6, 10, 3, 2],\n",
    "           'model__min_samples_split': [3, 7, 9, 2]\n",
    "}\n",
    "gs_rf, preproc_rf = get_gs(rf, grid_rf, need_print=True)\n",
    "\n",
    "get_res_grid_search(rf, gs_rf, preproc_rf)"
   ]
  },
  {
   "cell_type": "markdown",
   "metadata": {},
   "source": [
    "#### Use random forest model best estimator"
   ]
  },
  {
   "cell_type": "code",
   "execution_count": 307,
   "metadata": {},
   "outputs": [
    {
     "name": "stdout",
     "output_type": "stream",
     "text": [
      "Mean r2-score: 85.49% (2.47%)\n",
      "All r2-scores: [0.8585246  0.89305331 0.82683147 0.84103084]\n",
      "R2 - 0.8717\n",
      "done in 4.132s\n"
     ]
    }
   ],
   "source": [
    "rf = RandomForestRegressor(n_estimators=500,\n",
    "                           max_depth=4, min_samples_split=3)\n",
    "rf, preproc_rf, res_rf = get_estimation(rf)"
   ]
  },
  {
   "cell_type": "markdown",
   "metadata": {},
   "source": [
    "## Extra trees"
   ]
  },
  {
   "cell_type": "code",
   "execution_count": 301,
   "metadata": {},
   "outputs": [
    {
     "name": "stdout",
     "output_type": "stream",
     "text": [
      "Mean r2-score: 81.03% (2.56%)\n",
      "All r2-scores: [0.83916311 0.82823395 0.77329017 0.80038029]\n",
      "R2 - 0.8444\n",
      "done in 1.404s\n"
     ]
    }
   ],
   "source": [
    "et = ExtraTreesRegressor()\n",
    "et = get_estimation(et)"
   ]
  },
  {
   "cell_type": "code",
   "execution_count": 127,
   "metadata": {},
   "outputs": [
    {
     "name": "stdout",
     "output_type": "stream",
     "text": [
      "Performing grid search...\n",
      "done in 205.431s\n",
      "\n",
      "Best score: 0.846\n",
      "Best parameters set:\n",
      "\tmodel__max_depth: 7\n",
      "\tmodel__min_samples_split: 3\n",
      "\tmodel__n_estimators: 300\n",
      "Before Grid Search:\n",
      "R2 - 0.8465\n",
      "Expl variance - 0.8469\n",
      "\n",
      "After Grid Serch:\n",
      "R2 - 0.8769\n",
      "Expl variance - 0.8772\n"
     ]
    }
   ],
   "source": [
    "grid_et = {'model__n_estimators': [200, 300, 400, 500],\n",
    "           'model__max_depth': [4, 6, 10, 8, 7],\n",
    "           'model__min_samples_split': [3, 7, 9, 8, 12]\n",
    "}\n",
    "gs_et, preproc_et = get_gs(et, grid_et, need_print=True)\n",
    "\n",
    "get_res_grid_search(et, gs_et, preproc_et)"
   ]
  },
  {
   "cell_type": "markdown",
   "metadata": {},
   "source": [
    "#### Use extra trees model best estimator"
   ]
  },
  {
   "cell_type": "code",
   "execution_count": 308,
   "metadata": {},
   "outputs": [
    {
     "name": "stdout",
     "output_type": "stream",
     "text": [
      "Mean r2-score: 85.29% (2.81%)\n",
      "All r2-scores: [0.86964469 0.88736537 0.81345958 0.84115631]\n",
      "R2 - 0.8765\n",
      "done in 2.248s\n"
     ]
    }
   ],
   "source": [
    "et = ExtraTreesRegressor(max_depth=7, min_samples_split=3,\n",
    "                         n_estimators=300)\n",
    "et, preproc_et, res_et = get_estimation(et)"
   ]
  },
  {
   "cell_type": "markdown",
   "metadata": {},
   "source": [
    "## XGBoost"
   ]
  },
  {
   "cell_type": "markdown",
   "metadata": {},
   "source": [
    "#### first xgboost"
   ]
  },
  {
   "cell_type": "code",
   "execution_count": 303,
   "metadata": {},
   "outputs": [
    {
     "name": "stdout",
     "output_type": "stream",
     "text": [
      "Mean r2-score: 85.37% (2.41%)\n",
      "All r2-scores: [0.86169431 0.88727083 0.82133046 0.84462885]\n",
      "R2 - 0.8771\n",
      "done in 0.433s\n"
     ]
    }
   ],
   "source": [
    "xgbst1 = xgboost.XGBRFRegressor()\n",
    "xgbst1 = get_estimation(xgbst1)[0]"
   ]
  },
  {
   "cell_type": "code",
   "execution_count": 129,
   "metadata": {},
   "outputs": [
    {
     "name": "stdout",
     "output_type": "stream",
     "text": [
      "Performing grid search...\n",
      "done in 49.156s\n",
      "\n",
      "Best score: 0.765\n",
      "Best parameters set:\n",
      "\tmodel__lambda: 0.1\n",
      "\tmodel__learning_rate: 0.8\n",
      "\tmodel__max_depth: 5\n",
      "Before Grid Search:\n",
      "R2 - 0.8771\n",
      "Expl variance - 0.8775\n",
      "\n",
      "After Grid Serch:\n",
      "R2 - 0.8066\n",
      "Expl variance - 0.843\n"
     ]
    }
   ],
   "source": [
    "grid_xgbst1 = {'model__lambda': [0.1, 0.5, 1.2, 1.6],\n",
    "               'model__max_depth': [3, 8, 5, 11, 14],\n",
    "               'model__learning_rate': [0.1, 0.4, 0.6, 0.8]\n",
    "}\n",
    "gs_xgbst1, preproc_xgbst1 = get_gs(xgbst1, grid_xgbst1, need_print=True)\n",
    "\n",
    "get_res_grid_search(xgbst1, gs_xgbst1, preproc_xgbst1)"
   ]
  },
  {
   "cell_type": "markdown",
   "metadata": {},
   "source": [
    "#### Better results in xgboost regressor before grid search"
   ]
  },
  {
   "cell_type": "code",
   "execution_count": 309,
   "metadata": {},
   "outputs": [
    {
     "name": "stdout",
     "output_type": "stream",
     "text": [
      "Mean r2-score: 85.37% (2.41%)\n",
      "All r2-scores: [0.86169431 0.88727083 0.82133046 0.84462885]\n",
      "R2 - 0.8771\n",
      "done in 0.440s\n"
     ]
    }
   ],
   "source": [
    "xgbst1 = xgboost.XGBRFRegressor()\n",
    "xgbst1, preproc_xgbst1, res_xgbst1 = get_estimation(xgbst1)"
   ]
  },
  {
   "cell_type": "markdown",
   "metadata": {},
   "source": [
    "#### second xgboost"
   ]
  },
  {
   "cell_type": "code",
   "execution_count": 310,
   "metadata": {},
   "outputs": [
    {
     "name": "stdout",
     "output_type": "stream",
     "text": [
      "Mean r2-score: 80.36% (2.74%)\n",
      "All r2-scores: [0.82568851 0.83346349 0.76562142 0.78980613]\n",
      "R2 - 0.836\n",
      "done in 0.676s\n"
     ]
    }
   ],
   "source": [
    "xgbst2 = xgboost.XGBRegressor()\n",
    "xgbst2 = get_estimation(xgbst2)[0]"
   ]
  },
  {
   "cell_type": "code",
   "execution_count": 131,
   "metadata": {},
   "outputs": [
    {
     "name": "stdout",
     "output_type": "stream",
     "text": [
      "Performing grid search...\n",
      "done in 48.585s\n",
      "\n",
      "Best score: 0.844\n",
      "Best parameters set:\n",
      "\tmodel__lambda: 0.1\n",
      "\tmodel__learning_rate: 0.1\n",
      "\tmodel__max_depth: 3\n",
      "Before Grid Search:\n",
      "R2 - 0.836\n",
      "Expl variance - 0.8362\n",
      "\n",
      "After Grid Serch:\n",
      "R2 - 0.8792\n",
      "Expl variance - 0.8795\n"
     ]
    }
   ],
   "source": [
    "grid_xgbst2 = {'model__lambda': [0.1, 0.5, 1.2, 1.6],\n",
    "               'model__max_depth': [3, 8, 5, 11, 14],\n",
    "               'model__learning_rate': [0.1, 0.4, 0.6, 0.8]\n",
    "}\n",
    "gs_xgbst2, preproc_xgbst2 = get_gs(xgbst2, grid_xgbst2, need_print=True)\n",
    "\n",
    "get_res_grid_search(xgbst2, gs_xgbst2, preproc_xgbst2)"
   ]
  },
  {
   "cell_type": "markdown",
   "metadata": {},
   "source": [
    "#### Use xgboost model best estimator"
   ]
  },
  {
   "cell_type": "code",
   "execution_count": 311,
   "metadata": {},
   "outputs": [
    {
     "name": "stdout",
     "output_type": "stream",
     "text": [
      "Mean r2-score: 85.36% (2.80%)\n",
      "All r2-scores: [0.86166304 0.895366   0.82166102 0.8358003 ]\n",
      "R2 - 0.8792\n",
      "done in 0.354s\n"
     ]
    }
   ],
   "source": [
    "xgbst2 = xgboost.XGBRegressor(lambada=0.1, max_depth=3, learning_rate=0.1)\n",
    "xgbst2, preproc_xgbst2, res_xgbst2 = get_estimation(xgbst2)"
   ]
  },
  {
   "cell_type": "markdown",
   "metadata": {},
   "source": [
    "## LightGBM"
   ]
  },
  {
   "cell_type": "code",
   "execution_count": 312,
   "metadata": {},
   "outputs": [
    {
     "name": "stdout",
     "output_type": "stream",
     "text": [
      "Mean r2-score: 83.78% (2.94%)\n",
      "All r2-scores: [0.85054679 0.87873784 0.80143121 0.82047224]\n",
      "R2 - 0.8654\n",
      "done in 0.485s\n"
     ]
    }
   ],
   "source": [
    "lgbm = lightgbm.LGBMRegressor()\n",
    "lgbm = get_estimation(lgbm)[0]"
   ]
  },
  {
   "cell_type": "code",
   "execution_count": 289,
   "metadata": {},
   "outputs": [
    {
     "name": "stdout",
     "output_type": "stream",
     "text": [
      "Performing grid search...\n",
      "done in 315.629s\n",
      "\n",
      "Best score: 0.850\n",
      "Best parameters set:\n",
      "\tmodel__boosting: 'dart'\n",
      "\tmodel__lambda_l2: 0.4\n",
      "\tmodel__learning_rate: 0.3\n",
      "\tmodel__max_depth: 2\n",
      "\tmodel__num_leaves: 4\n",
      "Before Grid Search:\n",
      "R2 - 0.8654\n",
      "Expl variance - 0.8655\n",
      "\n",
      "After Grid Serch:\n",
      "R2 - 0.8833\n",
      "Expl variance - 0.8833\n"
     ]
    }
   ],
   "source": [
    "grid_lgbm = {'model__learning_rate': [0.2, 0.3, 0.4, 0.5],\n",
    "             'model__num_leaves': [4, 5, 6, 7, 10],\n",
    "             'model__boosting': ['rf', 'dart', 'goss'],\n",
    "             'model__max_depth': [2, 3, 4, -1],\n",
    "             'model__lambda_l2': [0, 0.2, 0.4, 0.7, 1]\n",
    "}\n",
    "gs_lgbm, preproc_lgbm = get_gs(lgbm, grid_lgbm, need_print=True)\n",
    "\n",
    "get_res_grid_search(lgbm, gs_lgbm, preproc_lgbm)"
   ]
  },
  {
   "cell_type": "markdown",
   "metadata": {},
   "source": [
    "#### Use xgboost model best estimator"
   ]
  },
  {
   "cell_type": "code",
   "execution_count": 313,
   "metadata": {},
   "outputs": [
    {
     "name": "stdout",
     "output_type": "stream",
     "text": [
      "Mean r2-score: 86.00% (2.69%)\n",
      "All r2-scores: [0.86930083 0.89927074 0.82900945 0.84241878]\n",
      "R2 - 0.8833\n",
      "done in 0.236s\n"
     ]
    }
   ],
   "source": [
    "lgbm = lightgbm.LGBMRegressor(boosting='dart', learning_rate=0.3, \n",
    "                              lambda_l2=0.4, num_leaves=4, max_depth=2)\n",
    "lgbm, preproc_lgbm, res_lgbm = get_estimation(lgbm)"
   ]
  },
  {
   "cell_type": "markdown",
   "metadata": {},
   "source": [
    "# Analyse results"
   ]
  },
  {
   "cell_type": "markdown",
   "metadata": {},
   "source": [
    "#### Good models:\n",
    "* 2 catboost models\n",
    "* lightgbm model\n",
    "* 2 xgboost models\n",
    "* random forest\n",
    "* extra trees\n",
    "\n",
    "Get tab with results:"
   ]
  },
  {
   "cell_type": "code",
   "execution_count": 315,
   "metadata": {},
   "outputs": [],
   "source": [
    "models = [ctbst_cat, ctbst, lgbm, xgbst1, xgbst2, rf, et]\n",
    "preprocs = [preproc_ctbst_cat, preproc_ctbst, preproc_lgbm, \n",
    "            preproc_xgbst1, preproc_xgbst2, preproc_rf, preproc_et]\n",
    "cv_res = list(map(np.mean, [res_ctbst_cat, res_ctbst, res_lgbm, \n",
    "          res_xgbst1, res_xgbst2, res_rf, res_et]))\n",
    "names = ['Catboost categorial', 'Catboost ohe',\n",
    "         'LightGBM', 'XGBoost (based on rf)',\n",
    "         'XGBoost', 'Random Forest', 'Extra Trees']"
   ]
  },
  {
   "cell_type": "code",
   "execution_count": 319,
   "metadata": {},
   "outputs": [
    {
     "name": "stdout",
     "output_type": "stream",
     "text": [
      "╒═══════════════════════╤═══════════════════╤════════════╤══════════════════════╤═════════════╕\n",
      "│                       │   CV score (mean) │   R2-score │   Explained Varience │   Max Error │\n",
      "╞═══════════════════════╪═══════════════════╪════════════╪══════════════════════╪═════════════╡\n",
      "│ Catboost categorial   │            0.8598 │     0.8817 │               0.8818 │     20990.8 │\n",
      "├───────────────────────┼───────────────────┼────────────┼──────────────────────┼─────────────┤\n",
      "│ Catboost ohe          │            0.8599 │     0.8822 │               0.8824 │     20935.1 │\n",
      "├───────────────────────┼───────────────────┼────────────┼──────────────────────┼─────────────┤\n",
      "│ LightGBM              │            0.86   │     0.8833 │               0.8833 │     21210.1 │\n",
      "├───────────────────────┼───────────────────┼────────────┼──────────────────────┼─────────────┤\n",
      "│ XGBoost (based on rf) │            0.8537 │     0.8771 │               0.8775 │     21769.2 │\n",
      "├───────────────────────┼───────────────────┼────────────┼──────────────────────┼─────────────┤\n",
      "│ XGBoost               │            0.8536 │     0.8792 │               0.8795 │     21727.8 │\n",
      "├───────────────────────┼───────────────────┼────────────┼──────────────────────┼─────────────┤\n",
      "│ Random Forest         │            0.8549 │     0.8717 │               0.8722 │     21851.4 │\n",
      "├───────────────────────┼───────────────────┼────────────┼──────────────────────┼─────────────┤\n",
      "│ Extra Trees           │            0.8529 │     0.8765 │               0.8767 │     21609.6 │\n",
      "╘═══════════════════════╧═══════════════════╧════════════╧══════════════════════╧═════════════╛\n"
     ]
    }
   ],
   "source": [
    "table = []\n",
    "for name, reg, prepr, cv_mean in zip(names, models, preprocs, cv_res): \n",
    "    X_valid_pipe = prepr.transform(X_valid)\n",
    "    cv_mean = f'{cv_mean:.4f}'\n",
    "    r2 = f'{r2_score(y_valid, reg.predict(X_valid_pipe)):.4f}'\n",
    "    ev = f'{explained_variance_score(y_valid, reg.predict(X_valid_pipe)):.4f}'\n",
    "    max_err = f'{max_error(y_valid, reg.predict(X_valid_pipe)):.4f}'\n",
    "    table += [[name, cv_mean, r2, ev, max_err]]\n",
    "print(tabulate(table, headers=['', 'CV score (mean)', 'R2-score', 'Explained Varience', 'Max Error'], tablefmt='fancy_grid'))"
   ]
  },
  {
   "cell_type": "code",
   "execution_count": 320,
   "metadata": {},
   "outputs": [],
   "source": [
    "ctbst_cat.save_model('catboost_model')"
   ]
  },
  {
   "cell_type": "code",
   "execution_count": 322,
   "metadata": {},
   "outputs": [
    {
     "data": {
      "text/plain": [
       "<lightgbm.basic.Booster at 0x28506beaf88>"
      ]
     },
     "execution_count": 322,
     "metadata": {},
     "output_type": "execute_result"
    }
   ],
   "source": [
    "lgbm.booster_.save_model('lightgbm_model.mdl', num_iteration=lgbm.booster_.best_iteration) "
   ]
  },
  {
   "cell_type": "code",
   "execution_count": null,
   "metadata": {},
   "outputs": [],
   "source": []
  }
 ],
 "metadata": {
  "kernelspec": {
   "display_name": "Python 3",
   "language": "python",
   "name": "python3"
  },
  "language_info": {
   "codemirror_mode": {
    "name": "ipython",
    "version": 3
   },
   "file_extension": ".py",
   "mimetype": "text/x-python",
   "name": "python",
   "nbconvert_exporter": "python",
   "pygments_lexer": "ipython3",
   "version": "3.7.7"
  }
 },
 "nbformat": 4,
 "nbformat_minor": 4
}
