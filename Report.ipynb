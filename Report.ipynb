{
 "cells": [
  {
   "cell_type": "code",
   "execution_count": null,
   "metadata": {},
   "outputs": [],
   "source": [
    "import numpy as np\n",
    "import pandas as pd\n",
    "import matplotlib.pyplot as plt\n",
    "\n",
    "# For Preprocessing\n",
    "from prog import LabelEncoding, Scaler, OneHotEncoding\n",
    "from sklearn.pipeline import Pipeline\n",
    "\n",
    "import lightgbm\n",
    "from sklearn.model_selection import train_test_split, GridSearchCV, KFold, cross_val_score\n",
    "from sklearn.metrics import r2_score, mean_squared_error, median_absolute_error, max_error\n",
    "from prog import draw_feature_impot_catboost, draw_feature_impot\n",
    "\n",
    "import warnings\n",
    "warnings.filterwarnings('ignore')"
   ]
  },
  {
   "cell_type": "markdown",
   "metadata": {},
   "source": [
    "## What I do?\n",
    "Steps:\n",
    "1. Look at data and make all features usable for models.\n",
    "2. Try to find the best model by selected metrics.\n",
    "3. Analyze results.\n",
    "\n",
    "***Step 1.*** I see data with numeric and text columns. Features sex and smoker are binary, so I will use label encoding to encode them; feature region is not binary and I can't find correct labels for it, so I will use one hot encoding for it. Also, I can use a scaler to numeric features (I use standard scaler). Realization of classes with preprocessing you can find in file prog.py, usage of these classes you can find in file choose_model.ipynb. Also, I check correlations between features to find preliminary identify the factors with the highest impact.\n",
    "\n",
    "***Step 2.*** Then I use different regressors to find the best solution for this task. How I choose metric you can read below, the realization of choosing models - in file choose_model.ipynb\n",
    "\n",
    "***Step 3*** Analysis of the results is, for example, identifying the factors with the highest impact. The realization you can find below.\n"
   ]
  },
  {
   "cell_type": "markdown",
   "metadata": {},
   "source": [
    "## Check correlations"
   ]
  },
  {
   "cell_type": "code",
   "execution_count": 2,
   "metadata": {},
   "outputs": [
    {
     "data": {
      "text/html": [
       "<div>\n",
       "<style scoped>\n",
       "    .dataframe tbody tr th:only-of-type {\n",
       "        vertical-align: middle;\n",
       "    }\n",
       "\n",
       "    .dataframe tbody tr th {\n",
       "        vertical-align: top;\n",
       "    }\n",
       "\n",
       "    .dataframe thead th {\n",
       "        text-align: right;\n",
       "    }\n",
       "</style>\n",
       "<table border=\"1\" class=\"dataframe\">\n",
       "  <thead>\n",
       "    <tr style=\"text-align: right;\">\n",
       "      <th></th>\n",
       "      <th>age</th>\n",
       "      <th>sex</th>\n",
       "      <th>bmi</th>\n",
       "      <th>children</th>\n",
       "      <th>smoker</th>\n",
       "      <th>region</th>\n",
       "      <th>charges</th>\n",
       "    </tr>\n",
       "  </thead>\n",
       "  <tbody>\n",
       "    <tr>\n",
       "      <th>0</th>\n",
       "      <td>19</td>\n",
       "      <td>female</td>\n",
       "      <td>27.90</td>\n",
       "      <td>0</td>\n",
       "      <td>yes</td>\n",
       "      <td>southwest</td>\n",
       "      <td>16884.9240</td>\n",
       "    </tr>\n",
       "    <tr>\n",
       "      <th>1</th>\n",
       "      <td>18</td>\n",
       "      <td>male</td>\n",
       "      <td>33.77</td>\n",
       "      <td>1</td>\n",
       "      <td>no</td>\n",
       "      <td>southeast</td>\n",
       "      <td>1725.5523</td>\n",
       "    </tr>\n",
       "    <tr>\n",
       "      <th>2</th>\n",
       "      <td>28</td>\n",
       "      <td>male</td>\n",
       "      <td>33.00</td>\n",
       "      <td>3</td>\n",
       "      <td>no</td>\n",
       "      <td>southeast</td>\n",
       "      <td>4449.4620</td>\n",
       "    </tr>\n",
       "  </tbody>\n",
       "</table>\n",
       "</div>"
      ],
      "text/plain": [
       "   age     sex    bmi  children smoker     region     charges\n",
       "0   19  female  27.90         0    yes  southwest  16884.9240\n",
       "1   18    male  33.77         1     no  southeast   1725.5523\n",
       "2   28    male  33.00         3     no  southeast   4449.4620"
      ]
     },
     "execution_count": 2,
     "metadata": {},
     "output_type": "execute_result"
    }
   ],
   "source": [
    "# load csv\n",
    "data = pd.read_csv('data/insurance.csv')\n",
    "data.head(3)"
   ]
  },
  {
   "cell_type": "code",
   "execution_count": 3,
   "metadata": {},
   "outputs": [
    {
     "data": {
      "text/html": [
       "<div>\n",
       "<style scoped>\n",
       "    .dataframe tbody tr th:only-of-type {\n",
       "        vertical-align: middle;\n",
       "    }\n",
       "\n",
       "    .dataframe tbody tr th {\n",
       "        vertical-align: top;\n",
       "    }\n",
       "\n",
       "    .dataframe thead th {\n",
       "        text-align: right;\n",
       "    }\n",
       "</style>\n",
       "<table border=\"1\" class=\"dataframe\">\n",
       "  <thead>\n",
       "    <tr style=\"text-align: right;\">\n",
       "      <th></th>\n",
       "      <th>age</th>\n",
       "      <th>sex</th>\n",
       "      <th>bmi</th>\n",
       "      <th>children</th>\n",
       "      <th>smoker</th>\n",
       "      <th>charges</th>\n",
       "      <th>region_northeast</th>\n",
       "      <th>region_northwest</th>\n",
       "      <th>region_southeast</th>\n",
       "      <th>region_southwest</th>\n",
       "    </tr>\n",
       "  </thead>\n",
       "  <tbody>\n",
       "    <tr>\n",
       "      <th>0</th>\n",
       "      <td>19</td>\n",
       "      <td>0</td>\n",
       "      <td>27.90</td>\n",
       "      <td>0</td>\n",
       "      <td>1</td>\n",
       "      <td>16884.9240</td>\n",
       "      <td>0.0</td>\n",
       "      <td>0.0</td>\n",
       "      <td>0.0</td>\n",
       "      <td>1.0</td>\n",
       "    </tr>\n",
       "    <tr>\n",
       "      <th>1</th>\n",
       "      <td>18</td>\n",
       "      <td>1</td>\n",
       "      <td>33.77</td>\n",
       "      <td>1</td>\n",
       "      <td>0</td>\n",
       "      <td>1725.5523</td>\n",
       "      <td>0.0</td>\n",
       "      <td>0.0</td>\n",
       "      <td>1.0</td>\n",
       "      <td>0.0</td>\n",
       "    </tr>\n",
       "    <tr>\n",
       "      <th>2</th>\n",
       "      <td>28</td>\n",
       "      <td>1</td>\n",
       "      <td>33.00</td>\n",
       "      <td>3</td>\n",
       "      <td>0</td>\n",
       "      <td>4449.4620</td>\n",
       "      <td>0.0</td>\n",
       "      <td>0.0</td>\n",
       "      <td>1.0</td>\n",
       "      <td>0.0</td>\n",
       "    </tr>\n",
       "  </tbody>\n",
       "</table>\n",
       "</div>"
      ],
      "text/plain": [
       "   age  sex    bmi  children  smoker     charges  region_northeast  \\\n",
       "0   19    0  27.90         0       1  16884.9240               0.0   \n",
       "1   18    1  33.77         1       0   1725.5523               0.0   \n",
       "2   28    1  33.00         3       0   4449.4620               0.0   \n",
       "\n",
       "   region_northwest  region_southeast  region_southwest  \n",
       "0               0.0               0.0               1.0  \n",
       "1               0.0               1.0               0.0  \n",
       "2               0.0               1.0               0.0  "
      ]
     },
     "execution_count": 3,
     "metadata": {},
     "output_type": "execute_result"
    }
   ],
   "source": [
    "# pipeline to use ohe and le\n",
    "pipe = Pipeline(steps=[('le', LabelEncoding()),\n",
    "                       ('ohe', OneHotEncoding())])\n",
    "pipe.fit_transform(data).head(3)"
   ]
  },
  {
   "cell_type": "code",
   "execution_count": 4,
   "metadata": {},
   "outputs": [
    {
     "data": {
      "image/png": "[encoded data removed]",
      "text/plain": [
       "<Figure size 720x432 with 1 Axes>"
      ]
     },
     "metadata": {
      "needs_background": "light"
     },
     "output_type": "display_data"
    }
   ],
   "source": [
    "draw_feature_impot(pipe.fit_transform(data).corr(), \n",
    "                   np.abs(pipe.fit_transform(data).corr().charges), \n",
    "                   title='Most correlated with charges features')"
   ]
  },
  {
   "cell_type": "markdown",
   "metadata": {},
   "source": [
    "##### As you see most correlate with charges (excluding charges) feature smoker, presumably it will influence the result most of all."
   ]
  },
  {
   "cell_type": "markdown",
   "metadata": {},
   "source": [
    "## Get the result of used model\n",
    "\n",
    "#### As metric I can use:\n",
    "- $RMSE$ - root of mean squared error. It represents the sample standard deviation of the differences between predicted values and residuals\n",
    "- $MAE$ - median absolute error. It represents the average of the absolute difference between the predicted values and observed value.\n",
    "- $R^2$ - the proportion of the variance in the dependent variable that is predictable from the independent variable. To understand look at formula:\n",
    "\n",
    "$R^2 = 1 - {{SS_{res}}\\over {SS_{tot}}}$, where $SS_{res}$ - sum of squares of residuals, $SS_{tot}$ - sum of squares of deviation $y_{true}$ from mean\n",
    "\n",
    "As you can see from the definition of these metrics: maximum value of $R^2$ is 1, minimum - infinity, range of RMSE and MAE is from 0 to infinity, so they don't tell how bad a model is. Also to get more interpretation results you should use MAE - it simple to analyze because of first pow under sum and of sum at all.\n",
    "\n",
    "Also you can analyze $max\\_error$ - maximum value in reiduals.\n",
    "\n",
    "All of these metrics you can find in sklearn.metrics."
   ]
  },
  {
   "cell_type": "code",
   "execution_count": 9,
   "metadata": {},
   "outputs": [],
   "source": [
    "# use the same seed to get the same results\n",
    "(X_train, X_valid,\n",
    " y_train, y_valid) = train_test_split(data.drop('charges', axis=1),\n",
    "                                     data.charges, shuffle=True,\n",
    "                                     test_size=0.2, random_state=42)"
   ]
  },
  {
   "cell_type": "code",
   "execution_count": 10,
   "metadata": {},
   "outputs": [
    {
     "name": "stdout",
     "output_type": "stream",
     "text": [
      "R2 - 0.8833\n",
      "MRSE - 4256.1\n",
      "MAE - 1405.0\n",
      "Max error - 21210.1\n"
     ]
    }
   ],
   "source": [
    "bst = lightgbm.Booster(model_file='lightgbm_model.mdl')\n",
    "prepr = Pipeline(steps=[('le', LabelEncoding()),\n",
    "                       ('ohe', OneHotEncoding())])\n",
    "prepr.fit(X_train)\n",
    "X_valid = prepr.transform(X_valid)\n",
    "\n",
    "print(f'R2 - {r2_score(y_valid, bst.predict(X_valid)):.4}')\n",
    "print(f'MRSE - {np.sqrt(mean_squared_error(y_valid, bst.predict(X_valid))):.5}')\n",
    "print(f'MAE - {median_absolute_error(y_valid, bst.predict(X_valid)):.5}')\n",
    "print(f'Max error - {max_error(y_valid, bst.predict(X_valid)):.6}')"
   ]
  },
  {
   "cell_type": "markdown",
   "metadata": {},
   "source": [
    "#### Feature importance\n",
    "Than draw feature importanse plot using matplotlib and catboost method get_feature_importance()."
   ]
  },
  {
   "cell_type": "code",
   "execution_count": 7,
   "metadata": {},
   "outputs": [
    {
     "data": {
      "image/png": "[encoded data removed]",
      "text/plain": [
       "<Figure size 720x432 with 1 Axes>"
      ]
     },
     "metadata": {
      "needs_background": "light"
     },
     "output_type": "display_data"
    }
   ],
   "source": [
    "lightgbm.plot_importance(bst, figsize=(10, 6), color='#badcbe');"
   ]
  },
  {
   "cell_type": "markdown",
   "metadata": {},
   "source": [
    "As expected, one of most impact features is smoker, but bmi and age, which in the second and third places in correlation check, have higher impact than expected."
   ]
  }
 ],
 "metadata": {
  "kernelspec": {
   "display_name": "Python 3",
   "language": "python",
   "name": "python3"
  },
  "language_info": {
   "codemirror_mode": {
    "name": "ipython",
    "version": 3
   },
   "file_extension": ".py",
   "mimetype": "text/x-python",
   "name": "python",
   "nbconvert_exporter": "python",
   "pygments_lexer": "ipython3",
   "version": "3.7.7"
  }
 },
 "nbformat": 4,
 "nbformat_minor": 4
}
